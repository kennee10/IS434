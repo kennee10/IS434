{
 "cells": [
  {
   "cell_type": "markdown",
   "id": "52e76d5b",
   "metadata": {},
   "source": [
    "# Test Selenium Chrome Driver\n",
    "\n",
    "Ref: https://medium.com/@srujana.rao2/scraping-instagram-with-python-using-selenium-and-beautiful-soup-8b72c186a058"
   ]
  },
  {
   "cell_type": "code",
   "execution_count": 8,
   "id": "c59a0134",
   "metadata": {},
   "outputs": [],
   "source": [
    "# Import dependencies\n",
    "from selenium import webdriver\n",
    "from selenium.webdriver.chrome.options import Options\n",
    "from bs4 import BeautifulSoup as bs\n",
    "import time\n",
    "import re\n",
    "from urllib.request import urlopen\n",
    "import json\n",
    "from pandas.io.json import json_normalize\n",
    "import pandas as pd, numpy as np"
   ]
  },
  {
   "cell_type": "code",
   "execution_count": 19,
   "id": "c85308df",
   "metadata": {},
   "outputs": [],
   "source": [
    "# Open the web browser\n",
    "# Selenium uses Chrome Drive to open the profile given a username (public user).\n",
    "# For example -\n",
    "\n",
    "username='davidbeckham'\n",
    "browser = webdriver.Chrome(\"C:/chrome/chromedriver.exe\")\n",
    "browser.get('https://www.instagram.com/'+username+'/?hl=en')\n",
    "Pagelength = browser.execute_script(\"window.scrollTo(0, document.body.scrollHeight);\")"
   ]
  },
  {
   "cell_type": "code",
   "execution_count": 15,
   "id": "84cf521a",
   "metadata": {},
   "outputs": [],
   "source": [
    "# If you want to open a hashtag page\n",
    "hashtag='food'\n",
    "browser = webdriver.Chrome(\"C:/chrome/chromedriver.exe\")\n",
    "browser.get('https://www.instagram.com/explore/tags/'+hashtag)\n",
    "Pagelength = browser.execute_script(\"window.scrollTo(0, document.body.scrollHeight);\")"
   ]
  },
  {
   "cell_type": "code",
   "execution_count": 20,
   "id": "3ee9f1f7",
   "metadata": {},
   "outputs": [
    {
     "name": "stdout",
     "output_type": "stream",
     "text": [
      "Space Tech\n",
      "NASA Selects Futuristic Space Technology Concepts for Early Study\n",
      "Webb Telescope\n",
      "Webb Telescope Mirror Alignment Continues Successfully\n",
      "‘Go for Launch’: NOAA’s GOES-T Satellite Cleared for Tuesday Liftoff\n",
      "NASA People\n",
      "Black History Month: NASA Honors the Stars of Our Past\n",
      "Aeronautics\n",
      "Sign Up to Fly with NASA Using the Flight Log Experience\n",
      "Space Station\n",
      "Inspiring the Next Generation: Meet Three Station Women Engineers\n",
      "Hubble\n",
      "Hubble Peers at Peculiar Pair of Galaxies\n",
      "NASA Invites Collaboration to Define Future of Air Travel\n",
      "Low-Earth Orbit Economy\n",
      "NASA, Axiom to Discuss First Private Astronaut Space Station Mission\n",
      "NASA Planes Fly into Snowstorms to Study Snowfall\n"
     ]
    }
   ],
   "source": [
    "# Go to NASA's main page and retrieve all headlines\n",
    "\n",
    "driver = webdriver.Chrome(\"C:/chrome/chromedriver.exe\")\n",
    "driver.get('https://www.nasa.gov')\n",
    "headlines = driver.find_elements_by_class_name(\"headline\")\n",
    "for headline in headlines:\n",
    "    print(headline.text.strip())\n",
    "# driver.close()"
   ]
  },
  {
   "cell_type": "code",
   "execution_count": null,
   "id": "f90813a8",
   "metadata": {},
   "outputs": [],
   "source": []
  }
 ],
 "metadata": {
  "kernelspec": {
   "display_name": "Python 3 (ipykernel)",
   "language": "python",
   "name": "python3"
  },
  "language_info": {
   "codemirror_mode": {
    "name": "ipython",
    "version": 3
   },
   "file_extension": ".py",
   "mimetype": "text/x-python",
   "name": "python",
   "nbconvert_exporter": "python",
   "pygments_lexer": "ipython3",
   "version": "3.9.5"
  }
 },
 "nbformat": 4,
 "nbformat_minor": 5
}
